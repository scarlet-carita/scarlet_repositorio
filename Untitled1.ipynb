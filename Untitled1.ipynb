{
 "cells": [
  {
   "cell_type": "code",
   "execution_count": null,
   "id": "bd9e0592-698b-47a0-b160-77fe14cb7c4a",
   "metadata": {},
   "outputs": [],
   "source": [
    "Analise de variável METRICAS CONTINUAS , por Tabela de Frequencias \n",
    "Enunciado: 1. Na análise de concessão de empréstimos, uma variável potencialmente \n",
    "importante é a renda da pessoa. O gerente de um banco coleta uma base de \n",
    "dados de seus correntistas e extrai a variável “renda mensal (R$)” para 50 \n",
    "pessoas. Embora se trate de uma variável quantitativa, deseja realizar uma \n",
    "análise por meio de tabela de frequências. Neste sentido, pede-se a) Classifique os correntistas em faixas de renda, sendo: 0-2.000; 2.001-4.000; \n",
    "4.001-6.000; 6.001-8.000; 8.001-10.000 e 10.001-12.000,"
   ]
  },
  {
   "cell_type": "code",
   "execution_count": null,
   "id": "3fa43470-df99-4197-8822-c6c2ba0c7ad9",
   "metadata": {},
   "outputs": [],
   "source": [
    "#importando Pandas para utilzar as bibliotecas para realizar a tabela de frequências \n"
   ]
  },
  {
   "cell_type": "code",
   "execution_count": 1,
   "id": "e1656cc1-1a5b-49e2-8a04-931a1db1bcd8",
   "metadata": {},
   "outputs": [
    {
     "name": "stdout",
     "output_type": "stream",
     "text": [
      "[2894.0, 3448.0, 1461.0, 2224.0, 2501.0, 1100.0, 3560.0, 5511.0, 2901.0, 10128.0, 1855.0, 3161.0, 8630.0, 6201.0, 4130.0, 2736.0, 4448.0, 2150.0, 4595.0, 5561.0, 2800.0, 9538.0, 2000.0, 3226.0, 1900.0, 7665.0, 3890.0, 6590.0, 1241.0, 1720.0, 2556.0, 4730.0, 4745.0, 8550.0, 3860.0, 11320.0, 6125.0, 5606.0, 3250.0, 1500.0, 9216.0, 4999.0, 3900.0, 7000.0, 3508.0, 1130.0, 4121.0, 2601.0, 2901.0, 4871.0]\n"
     ]
    }
   ],
   "source": [
    "#importando a biblioteca pandas \n",
    "#import : word chave para importar modulos bibliotecas\n",
    "import pandas as pd\n",
    "import matplotlib.pyplot as plt \n",
    "rendas =[ 2894.00, 3448.00, 1461.00, 2224.00, 2501.00,\n",
    "    1100.00, 3560.00, 5511.00, 2901.00, 10128.00,\n",
    "    1855.00, 3161.00, 8630.00, 6201.00, 4130.00,\n",
    "    2736.00, 4448.00, 2150.00, 4595.00, 5561.00,\n",
    "    2800.00, 9538.00, 2000.00, 3226.00, 1900.00,\n",
    "    7665.00, 3890.00, 6590.00, 1241.00, 1720.00,\n",
    "    2556.00, 4730.00, 4745.00, 8550.00, 3860.00,\n",
    "    11320.00, 6125.00, 5606.00, 3250.00, 1500.00,\n",
    "    9216.00, 4999.00, 3900.00, 7000.00, 3508.00,\n",
    "    1130.00, 4121.00, 2601.00, 2901.00, 4871.00]\n",
    "print(rendas)\n"
   ]
  },
  {
   "cell_type": "markdown",
   "id": "558abd59-3342-4356-8815-16292828bfab",
   "metadata": {},
   "source": [
    "##Criando Um DataFrame \n",
    "# DataFrame é uma estrutura de dados bidimensionalpor Pandas como tabela{linhas e colunas,  pode armazenar e manipular dados\r\n",
    "#'Renda' é uma string que representa o nome da coluna . está definindo o nome das colunas do DataFrame \r\n",
    "    # dados = {'Renda': [1000, 1500, 2000]}\r\n",
    "    # df = pd.DataFrame(dados) ## esta é outra forma de se você tivesse os dados organizados em um dicionário\r\n",
    "#**Para criar um DataFrame, geralmente usa a função pd.DataFrame()\r\n",
    "#Pode criar a partir de uma lista ou de um diccionario Example: \r\n",
    "    #dados = {'Renda': [1000, 1500, 2000], 'Cidade': ['A', 'B', 'C']}\r\n",
    "    #df = pd.DataFrame(dados)\r\n",
    "    #print(df) \r\n",
    "#*** Lendo dados de um arquivo CSV:\r\n",
    "    #df = pd.read_csv('caminho/para/seu/arquivo.csv')\r\n",
    "#sendo pd a variável que almacena Dataframe ou seja pd é uma instância do DataFrame.\n"
   ]
  },
  {
   "cell_type": "code",
   "execution_count": null,
   "id": "5c202e9d-0066-4ca9-996d-406b2258a1a6",
   "metadata": {},
   "outputs": [],
   "source": [
    "#Criando um Dataframe [estrutura bidimensional para armazenar ] por pandas\n",
    "#sendo pd a variável que almacena Dataframe || pd é uma instancia do DataFrame\n",
    "pd = pd.DataFrame(rendas, columns=['Renda'])\n"
   ]
  }
 ],
 "metadata": {
  "kernelspec": {
   "display_name": "Python 3 (ipykernel)",
   "language": "python",
   "name": "python3"
  },
  "language_info": {
   "codemirror_mode": {
    "name": "ipython",
    "version": 3
   },
   "file_extension": ".py",
   "mimetype": "text/x-python",
   "name": "python",
   "nbconvert_exporter": "python",
   "pygments_lexer": "ipython3",
   "version": "3.12.4"
  }
 },
 "nbformat": 4,
 "nbformat_minor": 5
}
