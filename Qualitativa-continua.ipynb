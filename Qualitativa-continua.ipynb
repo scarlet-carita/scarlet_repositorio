{
 "cells": [
  {
   "cell_type": "markdown",
   "id": "7fb1a29d-df9b-4e02-a0f2-2079d1e735db",
   "metadata": {},
   "source": [
    "FUNDAMENTOS DE ESTATISTICA: \n",
    "#ANALISE EXPLORATORIA DE DADOS: Est.Descriptiva[]\n",
    "    Chave: O modelo de Analise de Dados, metodologia é determinado em base ao tipo de Var.\n",
    "    Tipos de Variáveis: \n",
    "QUALITATIVAS [V.NÃO Metricas, Atribuem CATEGORIAS|| CLASIFICAÇÕES]:Ocorrência por Categoria\n",
    "    Analise Descriptiva : Tabelas de Frequências e Gráficos[Não PERMITE Calculo de   MEDIDASDPos e dispersão]\n",
    "*QUANTITAVAS [V.Metricas, Atribuem CONTAGEM|| MENSURAÇÃO]:\n",
    "    |VQ.Discreta|Quant de ocorrencias by c/valor discreto[int,E vaL REPETITIVOS]\n",
    "    |VQ.Continua|Quant de ocorrencias, BUT Need Categorização inicial por CLASSES||FAIXAS  [E vaL NÃO REPETITIVOS] \n",
    "    Analise Descriptiva : Diversas Ferr Estatísticas,  Medidas de Posição e dispersão.\n",
    "OBS : Não pode tornar uma V.QUANLITATIVA para V.QUANTITATIVA., ao contrario pode sim .\n",
    "#TABELA DE FREQUÊNCIAS : \n",
    "    F.ABSOLUTA[Contagem por c/CATEGORIA]\n",
    "    F.RELATIVA[Contagem % D/c/CATEGORIA em f(TotalObservações)]\n",
    "    F.ABSOLUTA ACUMULADA[SOMA da F.ABS a  c/CATEGORIA]\n",
    "    F.RELATIVA ACUMULADA[SOMA da F.REL a  c/CATEGORIA]"
   ]
  },
  {
   "cell_type": "code",
   "execution_count": null,
   "id": "92131039-e578-4ee5-9f19-e75b0a77dfe9",
   "metadata": {},
   "outputs": [],
   "source": [
    "1. Na análise de concessão de empréstimos, uma variável potencialmente \n",
    "importante é a renda da pessoa. O gerente de um banco coleta uma base de \n",
    "dados de seus correntistas e extrai a variável “renda mensal (R$)” para 50 \n",
    "pessoas. Embora se trate de uma variável quantitativa, deseja realizar uma \n",
    "análise por meio de tabela de frequências \n",
    "     Classifique os correntistas em faixas de renda, sendo: 0-2.000; 2.001-4.000; \n",
    "4.001-6.000; 6.001-8.000; 8.001-10.000 e 10.001-12.000\n",
    "    Elabore a tabela de frequências para as faixas de renda acima"
   ]
  },
  {
   "cell_type": "code",
   "execution_count": 5,
   "id": "91c704dc-c54e-4690-bad9-9bd00d6079ca",
   "metadata": {},
   "outputs": [
    {
     "name": "stdout",
     "output_type": "stream",
     "text": [
      "      Renda          Faixa\n",
      "0    2894.0    2.001-4.000\n",
      "1    3448.0    2.001-4.000\n",
      "2    1461.0        0-2.000\n",
      "3    2224.0    2.001-4.000\n",
      "4    2501.0    2.001-4.000\n",
      "5    1100.0        0-2.000\n",
      "6    3560.0    2.001-4.000\n",
      "7    5511.0    4.001-6.000\n",
      "8    2901.0    2.001-4.000\n",
      "9   10128.0  10.001-12.000\n",
      "10   1855.0        0-2.000\n",
      "11   3161.0    2.001-4.000\n",
      "12   8630.0   8.001-10.000\n",
      "13   6201.0    6.001-8.000\n",
      "14   4130.0    4.001-6.000\n",
      "15   2736.0    2.001-4.000\n",
      "16   4448.0    4.001-6.000\n",
      "17   2150.0    2.001-4.000\n",
      "18   4595.0    4.001-6.000\n",
      "19   5561.0    4.001-6.000\n",
      "20   2800.0    2.001-4.000\n",
      "21   9538.0   8.001-10.000\n",
      "22   2000.0        0-2.000\n",
      "23   3226.0    2.001-4.000\n",
      "24   1900.0        0-2.000\n",
      "25   7665.0    6.001-8.000\n",
      "26   3890.0    2.001-4.000\n",
      "27   6590.0    6.001-8.000\n",
      "28   1241.0        0-2.000\n",
      "29   1720.0        0-2.000\n",
      "30   2556.0    2.001-4.000\n",
      "31   4730.0    4.001-6.000\n",
      "32   4745.0    4.001-6.000\n",
      "33   8550.0   8.001-10.000\n",
      "34   3860.0    2.001-4.000\n",
      "35  11320.0  10.001-12.000\n",
      "36   6125.0    6.001-8.000\n",
      "37   5606.0    4.001-6.000\n",
      "38   3250.0    2.001-4.000\n",
      "39   1500.0        0-2.000\n",
      "40   9216.0   8.001-10.000\n",
      "41   4999.0    4.001-6.000\n",
      "42   3900.0    2.001-4.000\n",
      "43   7000.0    6.001-8.000\n",
      "44   3508.0    2.001-4.000\n",
      "45   1130.0        0-2.000\n",
      "46   4121.0    4.001-6.000\n",
      "47   2601.0    2.001-4.000\n",
      "48   2901.0    2.001-4.000\n",
      "49   4871.0    4.001-6.000\n"
     ]
    }
   ],
   "source": [
    "#importando a biblioteca pandas\n",
    "    #import: palavra chave para importar módulos ou bibliotecas \n",
    "    #pandas: biblioteca para manipulação de dados e analise de dados\n",
    "    # pd: alias ou apelido  para criar e facilitar o uso da biblioteca , a partir da def pode usar de forma abreviada para referir-se a pandas pa(neste caso)\n",
    "    # Exemplo import pandas as my_alias,  df = my_alias.DataFrame({'coluna': [1, 2, 3]})\n",
    "import pandas as pd\n",
    "#Criando lista de Rendas no vector rendas \n",
    "    # rendas:lista||vetor:armazena val numérico,% int, quando passa rendas para pd.DataFrame()\n",
    "    # Exemplo para mais colunas df = pd.DataFrame(rendas, columns=['Renda', 'OutraColuna'])\n",
    "rendas = [ 2894.00, 3448.00, 1461.00, 2224.00, 2501.00,\n",
    "    1100.00, 3560.00, 5511.00, 2901.00, 10128.00,\n",
    "    1855.00, 3161.00, 8630.00, 6201.00, 4130.00,\n",
    "    2736.00, 4448.00, 2150.00, 4595.00, 5561.00,\n",
    "    2800.00, 9538.00, 2000.00, 3226.00, 1900.00,\n",
    "    7665.00, 3890.00, 6590.00, 1241.00, 1720.00,\n",
    "    2556.00, 4730.00, 4745.00, 8550.00, 3860.00,\n",
    "    11320.00, 6125.00, 5606.00, 3250.00, 1500.00,\n",
    "    9216.00, 4999.00, 3900.00, 7000.00, 3508.00,\n",
    "    1130.00, 4121.00, 2601.00, 2901.00, 4871.00]\n",
    "#Criando um Dataframe :>\n",
    "    # DataFrame: Estrut d'dados BIdim by Pandas, % tabela{linhas&colunas}[armazena&manipula dados]\n",
    "    #Renda [string, rep=nome da coluna],definindo o nome das colunas do DataFrame \n",
    "    # Exem:: dados = {'Renda': [1000, 1500, 2000]}\n",
    "    # df = pd.DataFrame(dados) , prin(dados), já org num Diccionario, pd=INSTANCIA d'DataFrame\n",
    "    #******Lendo dados de um arquivo CSV:*******#\n",
    "    #df = pd.read_csv('caminho/para/teu/arquivo.csv')\n",
    "    #******outras operações comuns if pd(DataFrame's instance) *******#\n",
    "        #Visualizar dados: df.head() mostra as primeiras linhas.\n",
    "        #Filtrar dados: df[df['Renda'] > 1200] retorna linhas onde a renda é maior que 1200.\n",
    "        #Adicionar uma nova coluna: df['NovaColuna'] = [valor1, valor2, valor3].\n",
    "        #Agrupar dados: df.groupby('Cidade').mean() calcula a média das rendas por cidade.\n",
    "    #Exemplo  definidindo diretamento:: data = {'Renda': [2894.00, 3448.00, 1461.00] }\n",
    "        #df1=pd.DataFrame(data)\n",
    "df = pd.DataFrame(rendas,columns=['Renda'])\n",
    "#DEFININDO AS FAIXAS DE RENDAS [VAR QUANTITATIVA CONTINUA ]\n",
    "    #[ 0-2.000; 2.001-4.000;4.001-6.000; 6.001-8.000; 8.001-10.000 e 10.001-12.000]\n",
    "    #Definindo as  bin (limites das faixas )[use for categorizar dados , u can use anyword]\n",
    "bins = [0, 2000, 4000, 6000, 8000, 10000, 12000]\n",
    "        #Labels: DefinE osRotulos qSerão atribuídos às faixas.4 legibilidade d'resultado.\n",
    "labels = ['0-2.000', '2.001-4.000', '4.001-6.000', '6.001-8.000', '8.001-10.000', '10.001-12.000']\n",
    "#############CATEGORIZANDO AS RENDAS  com FUNCTION pd.cut()################\n",
    "    #Função pd.cut(): ferramenta do Pandas para categorizar dados em faixas (ou bins).\n",
    "        #instanceX.cut() divide uma série de dados contínuos em intervalos discretos e rotula con nome descriptivos\n",
    "df['Faixa'] = pd.cut(df['Renda'], bins=bins, labels=labels, right=True)\n",
    "    #Estrutura de cut() :pd.cut(x, bins, labels=None, right=True, include_lowest=False, retbins=False, precision=3, duplicates='raise', ordered=True)\n",
    "    #pd.cut() ,  parâmetros obrigatórios minimos Example:\n",
    "        ##data = [1, 2, 3, 4, 5] // valores a categorizar\n",
    "        # df = pd.DataFrame(data, columns=['Valores'])\n",
    "        #bins = [0, 2, 4, 6] // limites\n",
    "        # df['Faixa'] = pd.cut(df['Valores'], bins)\n",
    "# Show o DataFrame resultante\n",
    "print(df)"
   ]
  },
  {
   "cell_type": "code",
   "execution_count": 7,
   "id": "252e0fbe-336e-4eb2-9934-2770b29a823e",
   "metadata": {},
   "outputs": [
    {
     "name": "stdout",
     "output_type": "stream",
     "text": [
      "Frequência Absoluta\n",
      " Faixa\n",
      "0-2.000           9\n",
      "2.001-4.000      19\n",
      "4.001-6.000      11\n",
      "6.001-8.000       5\n",
      "8.001-10.000      4\n",
      "10.001-12.000     2\n",
      "Name: count, dtype: int64\n"
     ]
    }
   ],
   "source": [
    "#Calculando a Tabela de Frequências\n",
    "    #Estrut basic : tabela_frequencias = df['Faixa'].value_counts().sort_index()\n",
    "        #df['Faixa']: Acessa a coluna Faixa,\n",
    "        #value_counts(): Count[frequências d/c categoria], n° vezes c/faixa d'renda aparece na coluna Faixa.\n",
    "        #sort_index(): Org resultados by ordem d'índices (ou rótulos) das faixas.\n",
    "        #Exemplo_sem sort:: tabela_frequencias = df['Faixa'].value_counts()\n",
    "tabela_frequencias = df['Faixa'].value_counts().sort_index()\n",
    "#Imprimindo a Categorização >> Frequencia Absoluta \n",
    "print(\"Frequência Absoluta\\n\", tabela_frequencias) "
   ]
  },
  {
   "cell_type": "code",
   "execution_count": 9,
   "id": "b6b39845-18e3-4b62-999a-e4874e0089be",
   "metadata": {},
   "outputs": [
    {
     "name": "stdout",
     "output_type": "stream",
     "text": [
      "  Faixa de Renda   Frequência Absoluta\n",
      "0         0-2.000                    9\n",
      "1     2.001-4.000                   19\n",
      "2     4.001-6.000                   11\n",
      "3     6.001-8.000                    5\n",
      "4    8.001-10.000                    4\n",
      "5   10.001-12.000                    2\n"
     ]
    }
   ],
   "source": [
    "#Criando A Tabela da Frequencia Absoluta\n",
    "     #reset_index() Mét. d'Pandas usado num DataFrame4 restabelecer o indice\n",
    "    #(% : value_counts() o groupby()),\n",
    "    #tabela_frequencias:Objet [contain resultados d'Tab de FREQ], resultado de value_counts()\n",
    "    #.reset_index():method que invoca tabela_frequencias, restabelece indice por defecto (0, 1, 2..)\n",
    "tabela_frequencias = tabela_frequencias.reset_index()\n",
    "    #tabela_frequencia: Dataframe q/contem os dados \n",
    "    #.columns: atributo para acceder e mod os nomes das col do DataFrame \n",
    "    #['Faixa de Renda', 'Frequência Absoluta']: nova lista de nomes asignado à categoria Faixa Renda\n",
    "tabela_frequencias.columns = ['Faixa de Renda ', 'Frequência Absoluta']\n",
    "print(tabela_frequencias)\n"
   ]
  },
  {
   "cell_type": "code",
   "execution_count": 12,
   "id": "3852a1b2-456b-4edd-be44-a072e054ce04",
   "metadata": {},
   "outputs": [
    {
     "name": "stdout",
     "output_type": "stream",
     "text": [
      "50\n",
      "  Faixa de Renda   Frequência Absoluta  Frequência Relativa\n",
      "0         0-2.000                    9                 0.18\n",
      "1     2.001-4.000                   19                 0.38\n",
      "2     4.001-6.000                   11                 0.22\n",
      "3     6.001-8.000                    5                 0.10\n",
      "4    8.001-10.000                    4                 0.08\n",
      "5   10.001-12.000                    2                 0.04\n"
     ]
    }
   ],
   "source": [
    "# Frequência Relativa\n",
    "    #tabela_frequencia:DataFrame que contem as colunas \n",
    "    #['Frequência Absoluta']: accede a coluna q/contem as Freq Absolutas d/c/categoria\n",
    "    #len(df):numTotal no DataFrame original df[val usado%Denominador 4Calcular a FRelativa]\n",
    "    #tabela_frequencias['Frequência Relativa']:Crea nova coluna no DataFrame chamado'FRelativa'&asigna oResultado\n",
    "tabela_frequencias['Frequência Relativa'] = tabela_frequencias['Frequência Absoluta'] / len(df)\n",
    "#print(len(df)):Somatoria dos valores da Frequencia Absoluta  #\n",
    "print(tabela_frequencias)"
   ]
  },
  {
   "cell_type": "code",
   "execution_count": 13,
   "id": "efb817ab-3018-42ea-8f89-490d2a43282b",
   "metadata": {},
   "outputs": [
    {
     "data": {
      "text/plain": [
       "50"
      ]
     },
     "execution_count": 13,
     "metadata": {},
     "output_type": "execute_result"
    }
   ],
   "source": [
    "9+19+11+5+4+2"
   ]
  },
  {
   "cell_type": "code",
   "execution_count": 18,
   "id": "1ce0cce5-fbe7-4018-b0db-cb6a7567bf61",
   "metadata": {},
   "outputs": [
    {
     "name": "stdout",
     "output_type": "stream",
     "text": [
      "  Faixa de Renda   Frequência Absoluta  Frequência Relativa  \\\n",
      "0         0-2.000                    9                 0.18   \n",
      "1     2.001-4.000                   19                 0.38   \n",
      "2     4.001-6.000                   11                 0.22   \n",
      "3     6.001-8.000                    5                 0.10   \n",
      "4    8.001-10.000                    4                 0.08   \n",
      "5   10.001-12.000                    2                 0.04   \n",
      "\n",
      "   Frequência Absoluta Acumulada  \n",
      "0                              9  \n",
      "1                             28  \n",
      "2                             39  \n",
      "3                             44  \n",
      "4                             48  \n",
      "5                             50  \n"
     ]
    }
   ],
   "source": [
    "#Frequência Absoluta Acumulada\n",
    "    #DataFrame que contem os dados, including[F.Absoluta]\n",
    "    #['Frequência Absoluta']: accede a coluna q/contem as Freq Absolutas d/c/categoria\n",
    "    #.cumsum(): Panda's method[faz a soma acumulativa dos valores na serie] [3, 2, 2], cumsum() te dará [3, 5, 7]\n",
    "    #tabela_frequencias['Frequência Absoluta Acumulada']:Criando uma nova coluna no DataFrame\n",
    "    #chamado'Frequência Absoluta Acumulada'\n",
    "tabela_frequencias['Frequência Absoluta Acumulada'] = tabela_frequencias['Frequência Absoluta'].cumsum()\n",
    "print(tabela_frequencias)\n"
   ]
  },
  {
   "cell_type": "code",
   "execution_count": 28,
   "id": "fe38d3af-b1d3-4086-91a4-93f312d6f3f2",
   "metadata": {},
   "outputs": [
    {
     "data": {
      "text/html": [
       "<div>\n",
       "<style scoped>\n",
       "    .dataframe tbody tr th:only-of-type {\n",
       "        vertical-align: middle;\n",
       "    }\n",
       "\n",
       "    .dataframe tbody tr th {\n",
       "        vertical-align: top;\n",
       "    }\n",
       "\n",
       "    .dataframe thead th {\n",
       "        text-align: right;\n",
       "    }\n",
       "</style>\n",
       "<table border=\"1\" class=\"dataframe\">\n",
       "  <thead>\n",
       "    <tr style=\"text-align: right;\">\n",
       "      <th></th>\n",
       "      <th>Faixa de Renda</th>\n",
       "      <th>Frequência Absoluta</th>\n",
       "      <th>Frequência Relativa</th>\n",
       "      <th>Frequência Absoluta Acumulada</th>\n",
       "      <th>Frequência Relativa Acumulada</th>\n",
       "      <th>Frequência Relativa Acumulada</th>\n",
       "    </tr>\n",
       "  </thead>\n",
       "  <tbody>\n",
       "    <tr>\n",
       "      <th>0</th>\n",
       "      <td>0-2.000</td>\n",
       "      <td>9</td>\n",
       "      <td>0.18</td>\n",
       "      <td>9</td>\n",
       "      <td>0.18</td>\n",
       "      <td>0.18</td>\n",
       "    </tr>\n",
       "    <tr>\n",
       "      <th>1</th>\n",
       "      <td>2.001-4.000</td>\n",
       "      <td>19</td>\n",
       "      <td>0.38</td>\n",
       "      <td>28</td>\n",
       "      <td>0.56</td>\n",
       "      <td>0.56</td>\n",
       "    </tr>\n",
       "    <tr>\n",
       "      <th>2</th>\n",
       "      <td>4.001-6.000</td>\n",
       "      <td>11</td>\n",
       "      <td>0.22</td>\n",
       "      <td>39</td>\n",
       "      <td>0.78</td>\n",
       "      <td>0.78</td>\n",
       "    </tr>\n",
       "    <tr>\n",
       "      <th>3</th>\n",
       "      <td>6.001-8.000</td>\n",
       "      <td>5</td>\n",
       "      <td>0.10</td>\n",
       "      <td>44</td>\n",
       "      <td>0.88</td>\n",
       "      <td>0.88</td>\n",
       "    </tr>\n",
       "    <tr>\n",
       "      <th>4</th>\n",
       "      <td>8.001-10.000</td>\n",
       "      <td>4</td>\n",
       "      <td>0.08</td>\n",
       "      <td>48</td>\n",
       "      <td>0.96</td>\n",
       "      <td>0.96</td>\n",
       "    </tr>\n",
       "    <tr>\n",
       "      <th>5</th>\n",
       "      <td>10.001-12.000</td>\n",
       "      <td>2</td>\n",
       "      <td>0.04</td>\n",
       "      <td>50</td>\n",
       "      <td>1.00</td>\n",
       "      <td>1.00</td>\n",
       "    </tr>\n",
       "  </tbody>\n",
       "</table>\n",
       "</div>"
      ],
      "text/plain": [
       "  Faixa de Renda   Frequência Absoluta  Frequência Relativa  \\\n",
       "0         0-2.000                    9                 0.18   \n",
       "1     2.001-4.000                   19                 0.38   \n",
       "2     4.001-6.000                   11                 0.22   \n",
       "3     6.001-8.000                    5                 0.10   \n",
       "4    8.001-10.000                    4                 0.08   \n",
       "5   10.001-12.000                    2                 0.04   \n",
       "\n",
       "   Frequência Absoluta Acumulada  Frequência Relativa Acumulada   \\\n",
       "0                              9                            0.18   \n",
       "1                             28                            0.56   \n",
       "2                             39                            0.78   \n",
       "3                             44                            0.88   \n",
       "4                             48                            0.96   \n",
       "5                             50                            1.00   \n",
       "\n",
       "   Frequência Relativa Acumulada  \n",
       "0                           0.18  \n",
       "1                           0.56  \n",
       "2                           0.78  \n",
       "3                           0.88  \n",
       "4                           0.96  \n",
       "5                           1.00  "
      ]
     },
     "execution_count": 28,
     "metadata": {},
     "output_type": "execute_result"
    }
   ],
   "source": [
    "#Frequência Relativa Acumulada\n",
    "    #tabela_frequencias['Frequência Relativa Acumulada']:Criando uma nova coluna no DataFrame\n",
    "    #.cumsum(): somatoria das frequencias relativas , de forma acumulativa   \n",
    "tabela_frequencias['Frequência Relativa Acumulada'] = tabela_frequencias['Frequência Relativa'].cumsum()\n",
    "#Exibindo a tabela de Frequências Final \n",
    "tabela_frequencias\n"
   ]
  },
  {
   "cell_type": "code",
   "execution_count": 25,
   "id": "739044cb-f855-409d-92df-d4239ddf48df",
   "metadata": {},
   "outputs": [
    {
     "name": "stdout",
     "output_type": "stream",
     "text": [
      "Index(['Faixa de Renda ', 'Frequência Absoluta', 'Frequência Relativa',\n",
      "       'Frequência Absoluta Acumulada', 'Frequência Relativa Acumulada ',\n",
      "       'Frequência Relativa Acumulada'],\n",
      "      dtype='object')\n"
     ]
    }
   ],
   "source": [
    "#show *all tables \n",
    "print(tabela_frequencias.columns)"
   ]
  },
  {
   "cell_type": "code",
   "execution_count": null,
   "id": "4db33689-6a2e-448f-98d9-166c7afba9ec",
   "metadata": {},
   "outputs": [],
   "source": []
  }
 ],
 "metadata": {
  "kernelspec": {
   "display_name": "Python 3 (ipykernel)",
   "language": "python",
   "name": "python3"
  },
  "language_info": {
   "codemirror_mode": {
    "name": "ipython",
    "version": 3
   },
   "file_extension": ".py",
   "mimetype": "text/x-python",
   "name": "python",
   "nbconvert_exporter": "python",
   "pygments_lexer": "ipython3",
   "version": "3.12.4"
  }
 },
 "nbformat": 4,
 "nbformat_minor": 5
}
