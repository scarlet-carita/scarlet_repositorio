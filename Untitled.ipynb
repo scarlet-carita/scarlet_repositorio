{
 "cells": [
  {
   "cell_type": "markdown",
   "id": "7fb1a29d-df9b-4e02-a0f2-2079d1e735db",
   "metadata": {},
   "source": [
    "Criando "
   ]
  }
 ],
 "metadata": {
  "kernelspec": {
   "display_name": "Python 3 (ipykernel)",
   "language": "python",
   "name": "python3"
  },
  "language_info": {
   "codemirror_mode": {
    "name": "ipython",
    "version": 3
   },
   "file_extension": ".py",
   "mimetype": "text/x-python",
   "name": "python",
   "nbconvert_exporter": "python",
   "pygments_lexer": "ipython3",
   "version": "3.12.4"
  }
 },
 "nbformat": 4,
 "nbformat_minor": 5
}
